{
  "nbformat": 4,
  "nbformat_minor": 0,
  "metadata": {
    "colab": {
      "name": "Basic Financial Analysis & Data visualization",
      "provenance": [],
      "authorship_tag": "ABX9TyNZojE6xMV7fCr2VAwJVHnq",
      "include_colab_link": true
    },
    "kernelspec": {
      "name": "python3",
      "display_name": "Python 3"
    },
    "language_info": {
      "name": "python"
    }
  },
  "cells": [
    {
      "cell_type": "markdown",
      "metadata": {
        "id": "view-in-github",
        "colab_type": "text"
      },
      "source": [
        "<a href=\"https://colab.research.google.com/github/jyeunicepark/financialanalysis/blob/main/Basic_Financial_Analysis_%26_Data_visualization.ipynb\" target=\"_parent\"><img src=\"https://colab.research.google.com/assets/colab-badge.svg\" alt=\"Open In Colab\"/></a>"
      ]
    },
    {
      "cell_type": "markdown",
      "source": [
        "## Install and import yfinance API"
      ],
      "metadata": {
        "id": "c1RHJcJFDuha"
      }
    },
    {
      "cell_type": "code",
      "source": [
        "##yfinance is an API that calls Yahoo Finance data - created by https://aroussi.com/post/python-yahoo-finance\n",
        "##For more details and guidance, browse: https://pypi.org/project/yfinance/ (Press Ctrl and click on the link to enter)"
      ],
      "metadata": {
        "id": "WbQqdLIYD5aH"
      },
      "execution_count": null,
      "outputs": []
    },
    {
      "cell_type": "code",
      "source": [
        "pip install yfinance"
      ],
      "metadata": {
        "colab": {
          "base_uri": "https://localhost:8080/"
        },
        "id": "Os0J_qvxC_zo",
        "outputId": "e060231e-955c-428e-8e3a-44b0f6ba4b59"
      },
      "execution_count": null,
      "outputs": [
        {
          "output_type": "stream",
          "name": "stdout",
          "text": [
            "Collecting yfinance\n",
            "  Downloading yfinance-0.1.70-py2.py3-none-any.whl (26 kB)\n",
            "Requirement already satisfied: numpy>=1.15 in /usr/local/lib/python3.7/dist-packages (from yfinance) (1.21.6)\n",
            "Collecting lxml>=4.5.1\n",
            "  Downloading lxml-4.8.0-cp37-cp37m-manylinux_2_17_x86_64.manylinux2014_x86_64.manylinux_2_24_x86_64.whl (6.4 MB)\n",
            "\u001b[K     |████████████████████████████████| 6.4 MB 7.7 MB/s \n",
            "\u001b[?25hRequirement already satisfied: multitasking>=0.0.7 in /usr/local/lib/python3.7/dist-packages (from yfinance) (0.0.10)\n",
            "Collecting requests>=2.26\n",
            "  Downloading requests-2.27.1-py2.py3-none-any.whl (63 kB)\n",
            "\u001b[K     |████████████████████████████████| 63 kB 1.7 MB/s \n",
            "\u001b[?25hRequirement already satisfied: pandas>=0.24.0 in /usr/local/lib/python3.7/dist-packages (from yfinance) (1.3.5)\n",
            "Requirement already satisfied: python-dateutil>=2.7.3 in /usr/local/lib/python3.7/dist-packages (from pandas>=0.24.0->yfinance) (2.8.2)\n",
            "Requirement already satisfied: pytz>=2017.3 in /usr/local/lib/python3.7/dist-packages (from pandas>=0.24.0->yfinance) (2022.1)\n",
            "Requirement already satisfied: six>=1.5 in /usr/local/lib/python3.7/dist-packages (from python-dateutil>=2.7.3->pandas>=0.24.0->yfinance) (1.15.0)\n",
            "Requirement already satisfied: charset-normalizer~=2.0.0 in /usr/local/lib/python3.7/dist-packages (from requests>=2.26->yfinance) (2.0.12)\n",
            "Requirement already satisfied: certifi>=2017.4.17 in /usr/local/lib/python3.7/dist-packages (from requests>=2.26->yfinance) (2021.10.8)\n",
            "Requirement already satisfied: idna<4,>=2.5 in /usr/local/lib/python3.7/dist-packages (from requests>=2.26->yfinance) (2.10)\n",
            "Requirement already satisfied: urllib3<1.27,>=1.21.1 in /usr/local/lib/python3.7/dist-packages (from requests>=2.26->yfinance) (1.24.3)\n",
            "Installing collected packages: requests, lxml, yfinance\n",
            "  Attempting uninstall: requests\n",
            "    Found existing installation: requests 2.23.0\n",
            "    Uninstalling requests-2.23.0:\n",
            "      Successfully uninstalled requests-2.23.0\n",
            "  Attempting uninstall: lxml\n",
            "    Found existing installation: lxml 4.2.6\n",
            "    Uninstalling lxml-4.2.6:\n",
            "      Successfully uninstalled lxml-4.2.6\n",
            "\u001b[31mERROR: pip's dependency resolver does not currently take into account all the packages that are installed. This behaviour is the source of the following dependency conflicts.\n",
            "google-colab 1.0.0 requires requests~=2.23.0, but you have requests 2.27.1 which is incompatible.\n",
            "datascience 0.10.6 requires folium==0.2.1, but you have folium 0.8.3 which is incompatible.\u001b[0m\n",
            "Successfully installed lxml-4.8.0 requests-2.27.1 yfinance-0.1.70\n"
          ]
        }
      ]
    },
    {
      "cell_type": "code",
      "execution_count": null,
      "metadata": {
        "id": "A32WsvRF-9uL"
      },
      "outputs": [],
      "source": [
        "import yfinance as yf"
      ]
    },
    {
      "cell_type": "markdown",
      "source": [
        "## Import necessary libraries"
      ],
      "metadata": {
        "id": "BjbnZuUnLdFR"
      }
    },
    {
      "cell_type": "code",
      "source": [
        "import pandas as pd\n",
        "\n",
        "import numpy as np\n",
        "\n",
        "import datetime as dt\n",
        "\n",
        "import matplotlib.pyplot as plt\n",
        "plt.style.use('fivethirtyeight')"
      ],
      "metadata": {
        "id": "b-OGnDqVLcv7"
      },
      "execution_count": 94,
      "outputs": []
    },
    {
      "cell_type": "markdown",
      "source": [
        "## Sample Stock"
      ],
      "metadata": {
        "id": "oiwav1tDDrUI"
      }
    },
    {
      "cell_type": "code",
      "source": [
        "pltr = yf.Ticker(\"PLTR\")"
      ],
      "metadata": {
        "id": "ZXDMYlrfCgd-"
      },
      "execution_count": 86,
      "outputs": []
    },
    {
      "cell_type": "code",
      "source": [
        "pltr.info"
      ],
      "metadata": {
        "colab": {
          "base_uri": "https://localhost:8080/"
        },
        "id": "OnmwMPHzDFE3",
        "outputId": "922c4653-d4b9-4b6b-ea76-5c0f089a6051"
      },
      "execution_count": 87,
      "outputs": [
        {
          "output_type": "execute_result",
          "data": {
            "text/plain": [
              "{'52WeekChange': -0.5481386,\n",
              " 'SandP52WeekChange': -0.0065321326,\n",
              " 'address1': '1555 Blake Street',\n",
              " 'address2': 'Suite 250',\n",
              " 'algorithm': None,\n",
              " 'annualHoldingsTurnover': None,\n",
              " 'annualReportExpenseRatio': None,\n",
              " 'ask': 10.8,\n",
              " 'askSize': 21500,\n",
              " 'averageDailyVolume10Day': 32021450,\n",
              " 'averageVolume': 48241819,\n",
              " 'averageVolume10days': 32021450,\n",
              " 'beta': None,\n",
              " 'beta3Year': None,\n",
              " 'bid': 10.7,\n",
              " 'bidSize': 800,\n",
              " 'bookValue': 1.13,\n",
              " 'category': None,\n",
              " 'circulatingSupply': None,\n",
              " 'city': 'Denver',\n",
              " 'companyOfficers': [],\n",
              " 'country': 'United States',\n",
              " 'currency': 'USD',\n",
              " 'currentPrice': 10.56,\n",
              " 'currentRatio': 4.338,\n",
              " 'dateShortInterest': 1649894400,\n",
              " 'dayHigh': 11.195,\n",
              " 'dayLow': 10.53,\n",
              " 'debtToEquity': 11.352,\n",
              " 'dividendRate': None,\n",
              " 'dividendYield': None,\n",
              " 'earningsGrowth': None,\n",
              " 'earningsQuarterlyGrowth': None,\n",
              " 'ebitda': -396148992,\n",
              " 'ebitdaMargins': -0.25691998,\n",
              " 'enterpriseToEbitda': -51.269,\n",
              " 'enterpriseToRevenue': 13.172,\n",
              " 'enterpriseValue': 20310161408,\n",
              " 'exDividendDate': None,\n",
              " 'exchange': 'NYQ',\n",
              " 'exchangeTimezoneName': 'America/New_York',\n",
              " 'exchangeTimezoneShortName': 'EDT',\n",
              " 'expireDate': None,\n",
              " 'fiftyDayAverage': 12.3336,\n",
              " 'fiftyTwoWeekHigh': 29.29,\n",
              " 'fiftyTwoWeekLow': 9.74,\n",
              " 'financialCurrency': 'USD',\n",
              " 'fiveYearAverageReturn': None,\n",
              " 'fiveYearAvgDividendYield': None,\n",
              " 'floatShares': 1620826181,\n",
              " 'forwardEps': 0.26,\n",
              " 'forwardPE': 40.615387,\n",
              " 'freeCashflow': 474379264,\n",
              " 'fromCurrency': None,\n",
              " 'fullTimeEmployees': 2920,\n",
              " 'fundFamily': None,\n",
              " 'fundInceptionDate': None,\n",
              " 'gmtOffSetMilliseconds': '-14400000',\n",
              " 'grossMargins': 0.77988,\n",
              " 'grossProfits': 1202485000,\n",
              " 'heldPercentInsiders': 0.11597,\n",
              " 'heldPercentInstitutions': 0.33196,\n",
              " 'impliedSharesOutstanding': 0,\n",
              " 'industry': 'Software—Infrastructure',\n",
              " 'isEsgPopulated': False,\n",
              " 'lastCapGain': None,\n",
              " 'lastDividendDate': None,\n",
              " 'lastDividendValue': None,\n",
              " 'lastFiscalYearEnd': 1640908800,\n",
              " 'lastMarket': None,\n",
              " 'lastSplitDate': None,\n",
              " 'lastSplitFactor': None,\n",
              " 'legalType': None,\n",
              " 'logo_url': 'https://logo.clearbit.com/palantir.com',\n",
              " 'longBusinessSummary': 'Palantir Technologies Inc. builds and deploys software platforms for the intelligence community in the United States to assist in counterterrorism investigations and operations. The company provides palantir gotham, a software platform which enables users to identify patterns hidden deep within datasets, ranging from signals intelligence sources to reports from confidential informants, as well as facilitates the handoff between analysts and operational users, helping operators plan and execute real-world responses to threats that have been identified within the platform. It also offers palantir foundry, a platform that transforms the ways organizations operate by creating a central operating system for their data; and allows individual users to integrate and analyze the data they need in one place. In addition, it provides apollo, a software that enables customers to deploy their own software virtually in any environment. Palantir Technologies Inc. was incorporated in 2003 and is based in Denver, Colorado.',\n",
              " 'longName': 'Palantir Technologies Inc.',\n",
              " 'market': 'us_market',\n",
              " 'marketCap': 21438066688,\n",
              " 'maxAge': 1,\n",
              " 'maxSupply': None,\n",
              " 'messageBoardId': 'finmb_43580005',\n",
              " 'morningStarOverallRating': None,\n",
              " 'morningStarRiskRating': None,\n",
              " 'mostRecentQuarter': 1640908800,\n",
              " 'navPrice': None,\n",
              " 'netIncomeToCommon': -520379008,\n",
              " 'nextFiscalYearEnd': 1703980800,\n",
              " 'numberOfAnalystOpinions': 10,\n",
              " 'open': 11.01,\n",
              " 'openInterest': None,\n",
              " 'operatingCashflow': 333851008,\n",
              " 'operatingMargins': -0.26659,\n",
              " 'payoutRatio': 0,\n",
              " 'pegRatio': 1.39,\n",
              " 'phone': '720 358 3679',\n",
              " 'preMarketPrice': 11.03,\n",
              " 'previousClose': 11.12,\n",
              " 'priceHint': 2,\n",
              " 'priceToBook': 9.345133,\n",
              " 'priceToSalesTrailing12Months': 13.903768,\n",
              " 'profitMargins': -0.33749,\n",
              " 'quickRatio': 4.114,\n",
              " 'quoteType': 'EQUITY',\n",
              " 'recommendationKey': 'hold',\n",
              " 'recommendationMean': 3.1,\n",
              " 'regularMarketDayHigh': 11.195,\n",
              " 'regularMarketDayLow': 10.53,\n",
              " 'regularMarketOpen': 11.01,\n",
              " 'regularMarketPreviousClose': 11.12,\n",
              " 'regularMarketPrice': 10.56,\n",
              " 'regularMarketVolume': 54023487,\n",
              " 'returnOnAssets': -0.08653,\n",
              " 'returnOnEquity': -0.27291,\n",
              " 'revenueGrowth': 0.344,\n",
              " 'revenuePerShare': 0.802,\n",
              " 'revenueQuarterlyGrowth': None,\n",
              " 'sector': 'Technology',\n",
              " 'sharesOutstanding': 1929180032,\n",
              " 'sharesPercentSharesOut': 0.0544,\n",
              " 'sharesShort': 110486080,\n",
              " 'sharesShortPreviousMonthDate': 1647302400,\n",
              " 'sharesShortPriorMonth': 118858518,\n",
              " 'shortName': 'Palantir Technologies Inc.',\n",
              " 'shortPercentOfFloat': 0.063200004,\n",
              " 'shortRatio': 3.09,\n",
              " 'startDate': None,\n",
              " 'state': 'CO',\n",
              " 'strikePrice': None,\n",
              " 'symbol': 'PLTR',\n",
              " 'targetHighPrice': 25.3,\n",
              " 'targetLowPrice': 10,\n",
              " 'targetMeanPrice': 15.6,\n",
              " 'targetMedianPrice': 15.5,\n",
              " 'threeYearAverageReturn': None,\n",
              " 'toCurrency': None,\n",
              " 'totalAssets': None,\n",
              " 'totalCash': 2524826880,\n",
              " 'totalCashPerShare': 1.244,\n",
              " 'totalDebt': 260072992,\n",
              " 'totalRevenue': 1541889024,\n",
              " 'tradeable': False,\n",
              " 'trailingAnnualDividendRate': 0,\n",
              " 'trailingAnnualDividendYield': 0,\n",
              " 'trailingEps': -0.271,\n",
              " 'trailingPegRatio': 1.6325,\n",
              " 'twoHundredDayAverage': 19.2004,\n",
              " 'volume': 54023487,\n",
              " 'volume24Hr': None,\n",
              " 'volumeAllCurrencies': None,\n",
              " 'website': 'https://www.palantir.com',\n",
              " 'yield': None,\n",
              " 'ytdReturn': None,\n",
              " 'zip': '80202'}"
            ]
          },
          "metadata": {},
          "execution_count": 87
        }
      ]
    },
    {
      "cell_type": "code",
      "source": [
        "pltr.financials\n",
        "\n",
        "#Quarterly Financials \n",
        "#hutchmed.quarterly_financials"
      ],
      "metadata": {
        "colab": {
          "base_uri": "https://localhost:8080/",
          "height": 739
        },
        "id": "MUJRCVF1EjIJ",
        "outputId": "ae4863e1-e1cc-4faa-8d90-addc97ed02e5"
      },
      "execution_count": 89,
      "outputs": [
        {
          "output_type": "execute_result",
          "data": {
            "text/plain": [
              "                                          2021-12-31    2020-12-31  \\\n",
              "Research Development                     387487000.0   560660000.0   \n",
              "Effect Of Accounting Charges                    None          None   \n",
              "Income Before Tax                       -488494000.0 -1179027000.0   \n",
              "Minority Interest                               None          None   \n",
              "Net Income                              -520379000.0 -1166391000.0   \n",
              "Selling General Administrative          1226044000.0  1353145000.0   \n",
              "Gross Profit                            1202485000.0   740126000.0   \n",
              "Ebit                                    -411046000.0 -1173679000.0   \n",
              "Operating Income                        -411046000.0 -1173679000.0   \n",
              "Other Operating Expenses                        None          None   \n",
              "Interest Expense                          -3640000.0   -14139000.0   \n",
              "Extraordinary Items                             None          None   \n",
              "Non Recurring                                   None          None   \n",
              "Other Items                                     None          None   \n",
              "Income Tax Expense                        31885000.0   -12636000.0   \n",
              "Total Revenue                           1541889000.0  1092673000.0   \n",
              "Total Operating Expenses                1952935000.0  2266352000.0   \n",
              "Cost Of Revenue                          339404000.0   352547000.0   \n",
              "Total Other Income Expense Net           -77448000.0    -5348000.0   \n",
              "Discontinued Operations                         None          None   \n",
              "Net Income From Continuing Ops          -520379000.0 -1166391000.0   \n",
              "Net Income Applicable To Common Shares  -520379000.0 -1166391000.0   \n",
              "\n",
              "                                          2019-12-31    2018-12-31  \n",
              "Research Development                     305563000.0   285451000.0  \n",
              "Effect Of Accounting Charges                    None          None  \n",
              "Income Before Tax                       -567271000.0  -570925000.0  \n",
              "Minority Interest                               None          None  \n",
              "Net Income                              -579646000.0  -580027000.0  \n",
              "Selling General Administrative           771063000.0   744297000.0  \n",
              "Gross Profit                             500182000.0   430008000.0  \n",
              "Ebit                                    -576444000.0  -599740000.0  \n",
              "Operating Income                        -576444000.0  -599740000.0  \n",
              "Other Operating Expenses                        None          None  \n",
              "Interest Expense                          -3061000.0    -3440000.0  \n",
              "Extraordinary Items                             None          None  \n",
              "Non Recurring                                   None          None  \n",
              "Other Items                                     None          None  \n",
              "Income Tax Expense                        12375000.0     9102000.0  \n",
              "Total Revenue                            742555000.0   595409000.0  \n",
              "Total Operating Expenses                1318999000.0  1195149000.0  \n",
              "Cost Of Revenue                          242373000.0   165401000.0  \n",
              "Total Other Income Expense Net             9173000.0    28815000.0  \n",
              "Discontinued Operations                         None          None  \n",
              "Net Income From Continuing Ops          -579646000.0  -580027000.0  \n",
              "Net Income Applicable To Common Shares  -588127000.0  -598125000.0  "
            ],
            "text/html": [
              "\n",
              "  <div id=\"df-8458aeff-892e-45d8-9568-3187c2616d04\">\n",
              "    <div class=\"colab-df-container\">\n",
              "      <div>\n",
              "<style scoped>\n",
              "    .dataframe tbody tr th:only-of-type {\n",
              "        vertical-align: middle;\n",
              "    }\n",
              "\n",
              "    .dataframe tbody tr th {\n",
              "        vertical-align: top;\n",
              "    }\n",
              "\n",
              "    .dataframe thead th {\n",
              "        text-align: right;\n",
              "    }\n",
              "</style>\n",
              "<table border=\"1\" class=\"dataframe\">\n",
              "  <thead>\n",
              "    <tr style=\"text-align: right;\">\n",
              "      <th></th>\n",
              "      <th>2021-12-31</th>\n",
              "      <th>2020-12-31</th>\n",
              "      <th>2019-12-31</th>\n",
              "      <th>2018-12-31</th>\n",
              "    </tr>\n",
              "  </thead>\n",
              "  <tbody>\n",
              "    <tr>\n",
              "      <th>Research Development</th>\n",
              "      <td>387487000.0</td>\n",
              "      <td>560660000.0</td>\n",
              "      <td>305563000.0</td>\n",
              "      <td>285451000.0</td>\n",
              "    </tr>\n",
              "    <tr>\n",
              "      <th>Effect Of Accounting Charges</th>\n",
              "      <td>None</td>\n",
              "      <td>None</td>\n",
              "      <td>None</td>\n",
              "      <td>None</td>\n",
              "    </tr>\n",
              "    <tr>\n",
              "      <th>Income Before Tax</th>\n",
              "      <td>-488494000.0</td>\n",
              "      <td>-1179027000.0</td>\n",
              "      <td>-567271000.0</td>\n",
              "      <td>-570925000.0</td>\n",
              "    </tr>\n",
              "    <tr>\n",
              "      <th>Minority Interest</th>\n",
              "      <td>None</td>\n",
              "      <td>None</td>\n",
              "      <td>None</td>\n",
              "      <td>None</td>\n",
              "    </tr>\n",
              "    <tr>\n",
              "      <th>Net Income</th>\n",
              "      <td>-520379000.0</td>\n",
              "      <td>-1166391000.0</td>\n",
              "      <td>-579646000.0</td>\n",
              "      <td>-580027000.0</td>\n",
              "    </tr>\n",
              "    <tr>\n",
              "      <th>Selling General Administrative</th>\n",
              "      <td>1226044000.0</td>\n",
              "      <td>1353145000.0</td>\n",
              "      <td>771063000.0</td>\n",
              "      <td>744297000.0</td>\n",
              "    </tr>\n",
              "    <tr>\n",
              "      <th>Gross Profit</th>\n",
              "      <td>1202485000.0</td>\n",
              "      <td>740126000.0</td>\n",
              "      <td>500182000.0</td>\n",
              "      <td>430008000.0</td>\n",
              "    </tr>\n",
              "    <tr>\n",
              "      <th>Ebit</th>\n",
              "      <td>-411046000.0</td>\n",
              "      <td>-1173679000.0</td>\n",
              "      <td>-576444000.0</td>\n",
              "      <td>-599740000.0</td>\n",
              "    </tr>\n",
              "    <tr>\n",
              "      <th>Operating Income</th>\n",
              "      <td>-411046000.0</td>\n",
              "      <td>-1173679000.0</td>\n",
              "      <td>-576444000.0</td>\n",
              "      <td>-599740000.0</td>\n",
              "    </tr>\n",
              "    <tr>\n",
              "      <th>Other Operating Expenses</th>\n",
              "      <td>None</td>\n",
              "      <td>None</td>\n",
              "      <td>None</td>\n",
              "      <td>None</td>\n",
              "    </tr>\n",
              "    <tr>\n",
              "      <th>Interest Expense</th>\n",
              "      <td>-3640000.0</td>\n",
              "      <td>-14139000.0</td>\n",
              "      <td>-3061000.0</td>\n",
              "      <td>-3440000.0</td>\n",
              "    </tr>\n",
              "    <tr>\n",
              "      <th>Extraordinary Items</th>\n",
              "      <td>None</td>\n",
              "      <td>None</td>\n",
              "      <td>None</td>\n",
              "      <td>None</td>\n",
              "    </tr>\n",
              "    <tr>\n",
              "      <th>Non Recurring</th>\n",
              "      <td>None</td>\n",
              "      <td>None</td>\n",
              "      <td>None</td>\n",
              "      <td>None</td>\n",
              "    </tr>\n",
              "    <tr>\n",
              "      <th>Other Items</th>\n",
              "      <td>None</td>\n",
              "      <td>None</td>\n",
              "      <td>None</td>\n",
              "      <td>None</td>\n",
              "    </tr>\n",
              "    <tr>\n",
              "      <th>Income Tax Expense</th>\n",
              "      <td>31885000.0</td>\n",
              "      <td>-12636000.0</td>\n",
              "      <td>12375000.0</td>\n",
              "      <td>9102000.0</td>\n",
              "    </tr>\n",
              "    <tr>\n",
              "      <th>Total Revenue</th>\n",
              "      <td>1541889000.0</td>\n",
              "      <td>1092673000.0</td>\n",
              "      <td>742555000.0</td>\n",
              "      <td>595409000.0</td>\n",
              "    </tr>\n",
              "    <tr>\n",
              "      <th>Total Operating Expenses</th>\n",
              "      <td>1952935000.0</td>\n",
              "      <td>2266352000.0</td>\n",
              "      <td>1318999000.0</td>\n",
              "      <td>1195149000.0</td>\n",
              "    </tr>\n",
              "    <tr>\n",
              "      <th>Cost Of Revenue</th>\n",
              "      <td>339404000.0</td>\n",
              "      <td>352547000.0</td>\n",
              "      <td>242373000.0</td>\n",
              "      <td>165401000.0</td>\n",
              "    </tr>\n",
              "    <tr>\n",
              "      <th>Total Other Income Expense Net</th>\n",
              "      <td>-77448000.0</td>\n",
              "      <td>-5348000.0</td>\n",
              "      <td>9173000.0</td>\n",
              "      <td>28815000.0</td>\n",
              "    </tr>\n",
              "    <tr>\n",
              "      <th>Discontinued Operations</th>\n",
              "      <td>None</td>\n",
              "      <td>None</td>\n",
              "      <td>None</td>\n",
              "      <td>None</td>\n",
              "    </tr>\n",
              "    <tr>\n",
              "      <th>Net Income From Continuing Ops</th>\n",
              "      <td>-520379000.0</td>\n",
              "      <td>-1166391000.0</td>\n",
              "      <td>-579646000.0</td>\n",
              "      <td>-580027000.0</td>\n",
              "    </tr>\n",
              "    <tr>\n",
              "      <th>Net Income Applicable To Common Shares</th>\n",
              "      <td>-520379000.0</td>\n",
              "      <td>-1166391000.0</td>\n",
              "      <td>-588127000.0</td>\n",
              "      <td>-598125000.0</td>\n",
              "    </tr>\n",
              "  </tbody>\n",
              "</table>\n",
              "</div>\n",
              "      <button class=\"colab-df-convert\" onclick=\"convertToInteractive('df-8458aeff-892e-45d8-9568-3187c2616d04')\"\n",
              "              title=\"Convert this dataframe to an interactive table.\"\n",
              "              style=\"display:none;\">\n",
              "        \n",
              "  <svg xmlns=\"http://www.w3.org/2000/svg\" height=\"24px\"viewBox=\"0 0 24 24\"\n",
              "       width=\"24px\">\n",
              "    <path d=\"M0 0h24v24H0V0z\" fill=\"none\"/>\n",
              "    <path d=\"M18.56 5.44l.94 2.06.94-2.06 2.06-.94-2.06-.94-.94-2.06-.94 2.06-2.06.94zm-11 1L8.5 8.5l.94-2.06 2.06-.94-2.06-.94L8.5 2.5l-.94 2.06-2.06.94zm10 10l.94 2.06.94-2.06 2.06-.94-2.06-.94-.94-2.06-.94 2.06-2.06.94z\"/><path d=\"M17.41 7.96l-1.37-1.37c-.4-.4-.92-.59-1.43-.59-.52 0-1.04.2-1.43.59L10.3 9.45l-7.72 7.72c-.78.78-.78 2.05 0 2.83L4 21.41c.39.39.9.59 1.41.59.51 0 1.02-.2 1.41-.59l7.78-7.78 2.81-2.81c.8-.78.8-2.07 0-2.86zM5.41 20L4 18.59l7.72-7.72 1.47 1.35L5.41 20z\"/>\n",
              "  </svg>\n",
              "      </button>\n",
              "      \n",
              "  <style>\n",
              "    .colab-df-container {\n",
              "      display:flex;\n",
              "      flex-wrap:wrap;\n",
              "      gap: 12px;\n",
              "    }\n",
              "\n",
              "    .colab-df-convert {\n",
              "      background-color: #E8F0FE;\n",
              "      border: none;\n",
              "      border-radius: 50%;\n",
              "      cursor: pointer;\n",
              "      display: none;\n",
              "      fill: #1967D2;\n",
              "      height: 32px;\n",
              "      padding: 0 0 0 0;\n",
              "      width: 32px;\n",
              "    }\n",
              "\n",
              "    .colab-df-convert:hover {\n",
              "      background-color: #E2EBFA;\n",
              "      box-shadow: 0px 1px 2px rgba(60, 64, 67, 0.3), 0px 1px 3px 1px rgba(60, 64, 67, 0.15);\n",
              "      fill: #174EA6;\n",
              "    }\n",
              "\n",
              "    [theme=dark] .colab-df-convert {\n",
              "      background-color: #3B4455;\n",
              "      fill: #D2E3FC;\n",
              "    }\n",
              "\n",
              "    [theme=dark] .colab-df-convert:hover {\n",
              "      background-color: #434B5C;\n",
              "      box-shadow: 0px 1px 3px 1px rgba(0, 0, 0, 0.15);\n",
              "      filter: drop-shadow(0px 1px 2px rgba(0, 0, 0, 0.3));\n",
              "      fill: #FFFFFF;\n",
              "    }\n",
              "  </style>\n",
              "\n",
              "      <script>\n",
              "        const buttonEl =\n",
              "          document.querySelector('#df-8458aeff-892e-45d8-9568-3187c2616d04 button.colab-df-convert');\n",
              "        buttonEl.style.display =\n",
              "          google.colab.kernel.accessAllowed ? 'block' : 'none';\n",
              "\n",
              "        async function convertToInteractive(key) {\n",
              "          const element = document.querySelector('#df-8458aeff-892e-45d8-9568-3187c2616d04');\n",
              "          const dataTable =\n",
              "            await google.colab.kernel.invokeFunction('convertToInteractive',\n",
              "                                                     [key], {});\n",
              "          if (!dataTable) return;\n",
              "\n",
              "          const docLinkHtml = 'Like what you see? Visit the ' +\n",
              "            '<a target=\"_blank\" href=https://colab.research.google.com/notebooks/data_table.ipynb>data table notebook</a>'\n",
              "            + ' to learn more about interactive tables.';\n",
              "          element.innerHTML = '';\n",
              "          dataTable['output_type'] = 'display_data';\n",
              "          await google.colab.output.renderOutput(dataTable, element);\n",
              "          const docLink = document.createElement('div');\n",
              "          docLink.innerHTML = docLinkHtml;\n",
              "          element.appendChild(docLink);\n",
              "        }\n",
              "      </script>\n",
              "    </div>\n",
              "  </div>\n",
              "  "
            ]
          },
          "metadata": {},
          "execution_count": 89
        }
      ]
    },
    {
      "cell_type": "code",
      "source": [
        "#Slice out a specific set of financials (ie December 2021) from the above table using iloc\n",
        "pltr.financials.iloc[:, [0]]\n",
        "\n",
        "#vs pltr.financials.iloc[:, 0] -> will not include the table header '2021-12-31'"
      ],
      "metadata": {
        "colab": {
          "base_uri": "https://localhost:8080/",
          "height": 739
        },
        "id": "HKu25nwWEkwJ",
        "outputId": "ac021b11-3054-45cb-a9b3-35518d750403"
      },
      "execution_count": 90,
      "outputs": [
        {
          "output_type": "execute_result",
          "data": {
            "text/plain": [
              "                                          2021-12-31\n",
              "Research Development                     387487000.0\n",
              "Effect Of Accounting Charges                    None\n",
              "Income Before Tax                       -488494000.0\n",
              "Minority Interest                               None\n",
              "Net Income                              -520379000.0\n",
              "Selling General Administrative          1226044000.0\n",
              "Gross Profit                            1202485000.0\n",
              "Ebit                                    -411046000.0\n",
              "Operating Income                        -411046000.0\n",
              "Other Operating Expenses                        None\n",
              "Interest Expense                          -3640000.0\n",
              "Extraordinary Items                             None\n",
              "Non Recurring                                   None\n",
              "Other Items                                     None\n",
              "Income Tax Expense                        31885000.0\n",
              "Total Revenue                           1541889000.0\n",
              "Total Operating Expenses                1952935000.0\n",
              "Cost Of Revenue                          339404000.0\n",
              "Total Other Income Expense Net           -77448000.0\n",
              "Discontinued Operations                         None\n",
              "Net Income From Continuing Ops          -520379000.0\n",
              "Net Income Applicable To Common Shares  -520379000.0"
            ],
            "text/html": [
              "\n",
              "  <div id=\"df-ea367fe6-c1d9-43fe-b53f-1d3ce975f6ef\">\n",
              "    <div class=\"colab-df-container\">\n",
              "      <div>\n",
              "<style scoped>\n",
              "    .dataframe tbody tr th:only-of-type {\n",
              "        vertical-align: middle;\n",
              "    }\n",
              "\n",
              "    .dataframe tbody tr th {\n",
              "        vertical-align: top;\n",
              "    }\n",
              "\n",
              "    .dataframe thead th {\n",
              "        text-align: right;\n",
              "    }\n",
              "</style>\n",
              "<table border=\"1\" class=\"dataframe\">\n",
              "  <thead>\n",
              "    <tr style=\"text-align: right;\">\n",
              "      <th></th>\n",
              "      <th>2021-12-31</th>\n",
              "    </tr>\n",
              "  </thead>\n",
              "  <tbody>\n",
              "    <tr>\n",
              "      <th>Research Development</th>\n",
              "      <td>387487000.0</td>\n",
              "    </tr>\n",
              "    <tr>\n",
              "      <th>Effect Of Accounting Charges</th>\n",
              "      <td>None</td>\n",
              "    </tr>\n",
              "    <tr>\n",
              "      <th>Income Before Tax</th>\n",
              "      <td>-488494000.0</td>\n",
              "    </tr>\n",
              "    <tr>\n",
              "      <th>Minority Interest</th>\n",
              "      <td>None</td>\n",
              "    </tr>\n",
              "    <tr>\n",
              "      <th>Net Income</th>\n",
              "      <td>-520379000.0</td>\n",
              "    </tr>\n",
              "    <tr>\n",
              "      <th>Selling General Administrative</th>\n",
              "      <td>1226044000.0</td>\n",
              "    </tr>\n",
              "    <tr>\n",
              "      <th>Gross Profit</th>\n",
              "      <td>1202485000.0</td>\n",
              "    </tr>\n",
              "    <tr>\n",
              "      <th>Ebit</th>\n",
              "      <td>-411046000.0</td>\n",
              "    </tr>\n",
              "    <tr>\n",
              "      <th>Operating Income</th>\n",
              "      <td>-411046000.0</td>\n",
              "    </tr>\n",
              "    <tr>\n",
              "      <th>Other Operating Expenses</th>\n",
              "      <td>None</td>\n",
              "    </tr>\n",
              "    <tr>\n",
              "      <th>Interest Expense</th>\n",
              "      <td>-3640000.0</td>\n",
              "    </tr>\n",
              "    <tr>\n",
              "      <th>Extraordinary Items</th>\n",
              "      <td>None</td>\n",
              "    </tr>\n",
              "    <tr>\n",
              "      <th>Non Recurring</th>\n",
              "      <td>None</td>\n",
              "    </tr>\n",
              "    <tr>\n",
              "      <th>Other Items</th>\n",
              "      <td>None</td>\n",
              "    </tr>\n",
              "    <tr>\n",
              "      <th>Income Tax Expense</th>\n",
              "      <td>31885000.0</td>\n",
              "    </tr>\n",
              "    <tr>\n",
              "      <th>Total Revenue</th>\n",
              "      <td>1541889000.0</td>\n",
              "    </tr>\n",
              "    <tr>\n",
              "      <th>Total Operating Expenses</th>\n",
              "      <td>1952935000.0</td>\n",
              "    </tr>\n",
              "    <tr>\n",
              "      <th>Cost Of Revenue</th>\n",
              "      <td>339404000.0</td>\n",
              "    </tr>\n",
              "    <tr>\n",
              "      <th>Total Other Income Expense Net</th>\n",
              "      <td>-77448000.0</td>\n",
              "    </tr>\n",
              "    <tr>\n",
              "      <th>Discontinued Operations</th>\n",
              "      <td>None</td>\n",
              "    </tr>\n",
              "    <tr>\n",
              "      <th>Net Income From Continuing Ops</th>\n",
              "      <td>-520379000.0</td>\n",
              "    </tr>\n",
              "    <tr>\n",
              "      <th>Net Income Applicable To Common Shares</th>\n",
              "      <td>-520379000.0</td>\n",
              "    </tr>\n",
              "  </tbody>\n",
              "</table>\n",
              "</div>\n",
              "      <button class=\"colab-df-convert\" onclick=\"convertToInteractive('df-ea367fe6-c1d9-43fe-b53f-1d3ce975f6ef')\"\n",
              "              title=\"Convert this dataframe to an interactive table.\"\n",
              "              style=\"display:none;\">\n",
              "        \n",
              "  <svg xmlns=\"http://www.w3.org/2000/svg\" height=\"24px\"viewBox=\"0 0 24 24\"\n",
              "       width=\"24px\">\n",
              "    <path d=\"M0 0h24v24H0V0z\" fill=\"none\"/>\n",
              "    <path d=\"M18.56 5.44l.94 2.06.94-2.06 2.06-.94-2.06-.94-.94-2.06-.94 2.06-2.06.94zm-11 1L8.5 8.5l.94-2.06 2.06-.94-2.06-.94L8.5 2.5l-.94 2.06-2.06.94zm10 10l.94 2.06.94-2.06 2.06-.94-2.06-.94-.94-2.06-.94 2.06-2.06.94z\"/><path d=\"M17.41 7.96l-1.37-1.37c-.4-.4-.92-.59-1.43-.59-.52 0-1.04.2-1.43.59L10.3 9.45l-7.72 7.72c-.78.78-.78 2.05 0 2.83L4 21.41c.39.39.9.59 1.41.59.51 0 1.02-.2 1.41-.59l7.78-7.78 2.81-2.81c.8-.78.8-2.07 0-2.86zM5.41 20L4 18.59l7.72-7.72 1.47 1.35L5.41 20z\"/>\n",
              "  </svg>\n",
              "      </button>\n",
              "      \n",
              "  <style>\n",
              "    .colab-df-container {\n",
              "      display:flex;\n",
              "      flex-wrap:wrap;\n",
              "      gap: 12px;\n",
              "    }\n",
              "\n",
              "    .colab-df-convert {\n",
              "      background-color: #E8F0FE;\n",
              "      border: none;\n",
              "      border-radius: 50%;\n",
              "      cursor: pointer;\n",
              "      display: none;\n",
              "      fill: #1967D2;\n",
              "      height: 32px;\n",
              "      padding: 0 0 0 0;\n",
              "      width: 32px;\n",
              "    }\n",
              "\n",
              "    .colab-df-convert:hover {\n",
              "      background-color: #E2EBFA;\n",
              "      box-shadow: 0px 1px 2px rgba(60, 64, 67, 0.3), 0px 1px 3px 1px rgba(60, 64, 67, 0.15);\n",
              "      fill: #174EA6;\n",
              "    }\n",
              "\n",
              "    [theme=dark] .colab-df-convert {\n",
              "      background-color: #3B4455;\n",
              "      fill: #D2E3FC;\n",
              "    }\n",
              "\n",
              "    [theme=dark] .colab-df-convert:hover {\n",
              "      background-color: #434B5C;\n",
              "      box-shadow: 0px 1px 3px 1px rgba(0, 0, 0, 0.15);\n",
              "      filter: drop-shadow(0px 1px 2px rgba(0, 0, 0, 0.3));\n",
              "      fill: #FFFFFF;\n",
              "    }\n",
              "  </style>\n",
              "\n",
              "      <script>\n",
              "        const buttonEl =\n",
              "          document.querySelector('#df-ea367fe6-c1d9-43fe-b53f-1d3ce975f6ef button.colab-df-convert');\n",
              "        buttonEl.style.display =\n",
              "          google.colab.kernel.accessAllowed ? 'block' : 'none';\n",
              "\n",
              "        async function convertToInteractive(key) {\n",
              "          const element = document.querySelector('#df-ea367fe6-c1d9-43fe-b53f-1d3ce975f6ef');\n",
              "          const dataTable =\n",
              "            await google.colab.kernel.invokeFunction('convertToInteractive',\n",
              "                                                     [key], {});\n",
              "          if (!dataTable) return;\n",
              "\n",
              "          const docLinkHtml = 'Like what you see? Visit the ' +\n",
              "            '<a target=\"_blank\" href=https://colab.research.google.com/notebooks/data_table.ipynb>data table notebook</a>'\n",
              "            + ' to learn more about interactive tables.';\n",
              "          element.innerHTML = '';\n",
              "          dataTable['output_type'] = 'display_data';\n",
              "          await google.colab.output.renderOutput(dataTable, element);\n",
              "          const docLink = document.createElement('div');\n",
              "          docLink.innerHTML = docLinkHtml;\n",
              "          element.appendChild(docLink);\n",
              "        }\n",
              "      </script>\n",
              "    </div>\n",
              "  </div>\n",
              "  "
            ]
          },
          "metadata": {},
          "execution_count": 90
        }
      ]
    },
    {
      "cell_type": "markdown",
      "source": [
        "### Looking into multiple tickers"
      ],
      "metadata": {
        "id": "YxRJGuaRMFWH"
      }
    },
    {
      "cell_type": "code",
      "source": [
        "sample = ['AAPL', 'TSLA', 'FB', 'GOOG', 'NFLX']\n",
        "\n",
        "while True:\n",
        "  tickers = input(\"Enter stock tickers, with no commas (ie: 'aapl tsla fb goog nflx'): \").split()\n",
        "\n",
        "  #if the input is empty a default list of the sample variables would be provided\n",
        "  if tickers==[]:\n",
        "    tickers = sample\n",
        "\n",
        "  resp = print(f\"Fetching data for {tickers[:]}\")\n",
        "\n",
        "\n",
        "  input_update = input(\"Would you like to amend the list? y or n \").lower().strip()\n",
        "\n",
        "  if input_update != \"y\":\n",
        "          print(f\"Let's proceed to the next step!\")\n",
        "          break # as the name suggests, the break statement breaks out of the while loop"
      ],
      "metadata": {
        "id": "v-CnigjRIi0k",
        "colab": {
          "base_uri": "https://localhost:8080/"
        },
        "outputId": "75aa2a47-70d2-4370-e0a7-4338a67c0992"
      },
      "execution_count": 297,
      "outputs": [
        {
          "output_type": "stream",
          "name": "stdout",
          "text": [
            "Enter stock tickers, with no commas (ie: 'aapl tsla fb goog nflx'): mco amd goog baba\n",
            "Fetching data for ['mco', 'amd', 'goog', 'baba']\n",
            "Would you like to amend the list? y or n n\n",
            "Let's proceed to the next step!\n"
          ]
        }
      ]
    },
    {
      "cell_type": "code",
      "source": [
        "tickers"
      ],
      "metadata": {
        "colab": {
          "base_uri": "https://localhost:8080/"
        },
        "id": "4hqnP-9esv-V",
        "outputId": "fc7077c4-76ac-4fea-aed8-d448d4262716"
      },
      "execution_count": 298,
      "outputs": [
        {
          "output_type": "execute_result",
          "data": {
            "text/plain": [
              "['mco', 'amd', 'goog', 'baba']"
            ]
          },
          "metadata": {},
          "execution_count": 298
        }
      ]
    },
    {
      "cell_type": "code",
      "source": [
        "while True:\n",
        "    try:\n",
        "        years = int(input('Choose the period length of data (in year/s): '))\n",
        "        break\n",
        "    except ValueError:\n",
        "        print('You entered a non integer value, try again.')\n",
        "        continue\n",
        "\n",
        "print(f'Data for {years} year(s) will be shown')"
      ],
      "metadata": {
        "colab": {
          "base_uri": "https://localhost:8080/"
        },
        "id": "bv9h4zxaq8oN",
        "outputId": "33aa3154-8833-4770-ab06-ea73af62c9ff"
      },
      "execution_count": 299,
      "outputs": [
        {
          "output_type": "stream",
          "name": "stdout",
          "text": [
            "Choose the period length of data (in year/s): 5\n",
            "Data for 5 year(s) will be shown\n"
          ]
        }
      ]
    },
    {
      "cell_type": "code",
      "source": [
        "\n",
        "close_prices = pd.DataFrame() # empty dataframe which will be filled with closing prices of each stock\n",
        "start = dt.datetime.today()-dt.timedelta(days = 365*years)\n",
        "end = dt.datetime.today()"
      ],
      "metadata": {
        "id": "OVE7_Zk7MSv-"
      },
      "execution_count": 300,
      "outputs": []
    },
    {
      "cell_type": "code",
      "source": [
        "for i in tickers:\n",
        "  close_prices[i] = yf.download(i,start,end)[\"Adj Close\"]"
      ],
      "metadata": {
        "colab": {
          "base_uri": "https://localhost:8080/"
        },
        "id": "KPU8MWQ-Mf3G",
        "outputId": "e7c2230a-86af-455c-afb8-9c91e856d7cf"
      },
      "execution_count": 301,
      "outputs": [
        {
          "output_type": "stream",
          "name": "stdout",
          "text": [
            "[*********************100%***********************]  1 of 1 completed\n",
            "[*********************100%***********************]  1 of 1 completed\n",
            "[*********************100%***********************]  1 of 1 completed\n",
            "[*********************100%***********************]  1 of 1 completed\n"
          ]
        }
      ]
    },
    {
      "cell_type": "code",
      "source": [
        "close_prices"
      ],
      "metadata": {
        "colab": {
          "base_uri": "https://localhost:8080/",
          "height": 455
        },
        "id": "qBGrhQhmM2Dj",
        "outputId": "53c07eb9-55a2-4f0b-d091-8747278c72a7"
      },
      "execution_count": 302,
      "outputs": [
        {
          "output_type": "execute_result",
          "data": {
            "text/plain": [
              "                   mco        amd         goog        baba\n",
              "Date                                                      \n",
              "2017-05-01  112.415291  13.620000   912.570007  116.680000\n",
              "2017-05-02  113.321091  10.320000   916.440002  118.089996\n",
              "2017-05-03  113.130379  10.390000   927.039978  116.570000\n",
              "2017-05-04  113.845490  10.100000   931.659973  115.860001\n",
              "2017-05-05  112.729935  10.190000   927.130005  116.040001\n",
              "...                ...        ...          ...         ...\n",
              "2022-04-21  329.920013  89.849998  2498.750000   85.989998\n",
              "2022-04-22  322.420013  88.139999  2392.280029   86.489998\n",
              "2022-04-25  325.510010  90.690002  2465.000000   85.839996\n",
              "2022-04-26  319.000000  85.160004  2390.120117   83.989998\n",
              "2022-04-27  319.489990  84.910004  2300.409912   88.320000\n",
              "\n",
              "[1258 rows x 4 columns]"
            ],
            "text/html": [
              "\n",
              "  <div id=\"df-14442b2a-e030-41fb-ae0b-bad9676d9725\">\n",
              "    <div class=\"colab-df-container\">\n",
              "      <div>\n",
              "<style scoped>\n",
              "    .dataframe tbody tr th:only-of-type {\n",
              "        vertical-align: middle;\n",
              "    }\n",
              "\n",
              "    .dataframe tbody tr th {\n",
              "        vertical-align: top;\n",
              "    }\n",
              "\n",
              "    .dataframe thead th {\n",
              "        text-align: right;\n",
              "    }\n",
              "</style>\n",
              "<table border=\"1\" class=\"dataframe\">\n",
              "  <thead>\n",
              "    <tr style=\"text-align: right;\">\n",
              "      <th></th>\n",
              "      <th>mco</th>\n",
              "      <th>amd</th>\n",
              "      <th>goog</th>\n",
              "      <th>baba</th>\n",
              "    </tr>\n",
              "    <tr>\n",
              "      <th>Date</th>\n",
              "      <th></th>\n",
              "      <th></th>\n",
              "      <th></th>\n",
              "      <th></th>\n",
              "    </tr>\n",
              "  </thead>\n",
              "  <tbody>\n",
              "    <tr>\n",
              "      <th>2017-05-01</th>\n",
              "      <td>112.415291</td>\n",
              "      <td>13.620000</td>\n",
              "      <td>912.570007</td>\n",
              "      <td>116.680000</td>\n",
              "    </tr>\n",
              "    <tr>\n",
              "      <th>2017-05-02</th>\n",
              "      <td>113.321091</td>\n",
              "      <td>10.320000</td>\n",
              "      <td>916.440002</td>\n",
              "      <td>118.089996</td>\n",
              "    </tr>\n",
              "    <tr>\n",
              "      <th>2017-05-03</th>\n",
              "      <td>113.130379</td>\n",
              "      <td>10.390000</td>\n",
              "      <td>927.039978</td>\n",
              "      <td>116.570000</td>\n",
              "    </tr>\n",
              "    <tr>\n",
              "      <th>2017-05-04</th>\n",
              "      <td>113.845490</td>\n",
              "      <td>10.100000</td>\n",
              "      <td>931.659973</td>\n",
              "      <td>115.860001</td>\n",
              "    </tr>\n",
              "    <tr>\n",
              "      <th>2017-05-05</th>\n",
              "      <td>112.729935</td>\n",
              "      <td>10.190000</td>\n",
              "      <td>927.130005</td>\n",
              "      <td>116.040001</td>\n",
              "    </tr>\n",
              "    <tr>\n",
              "      <th>...</th>\n",
              "      <td>...</td>\n",
              "      <td>...</td>\n",
              "      <td>...</td>\n",
              "      <td>...</td>\n",
              "    </tr>\n",
              "    <tr>\n",
              "      <th>2022-04-21</th>\n",
              "      <td>329.920013</td>\n",
              "      <td>89.849998</td>\n",
              "      <td>2498.750000</td>\n",
              "      <td>85.989998</td>\n",
              "    </tr>\n",
              "    <tr>\n",
              "      <th>2022-04-22</th>\n",
              "      <td>322.420013</td>\n",
              "      <td>88.139999</td>\n",
              "      <td>2392.280029</td>\n",
              "      <td>86.489998</td>\n",
              "    </tr>\n",
              "    <tr>\n",
              "      <th>2022-04-25</th>\n",
              "      <td>325.510010</td>\n",
              "      <td>90.690002</td>\n",
              "      <td>2465.000000</td>\n",
              "      <td>85.839996</td>\n",
              "    </tr>\n",
              "    <tr>\n",
              "      <th>2022-04-26</th>\n",
              "      <td>319.000000</td>\n",
              "      <td>85.160004</td>\n",
              "      <td>2390.120117</td>\n",
              "      <td>83.989998</td>\n",
              "    </tr>\n",
              "    <tr>\n",
              "      <th>2022-04-27</th>\n",
              "      <td>319.489990</td>\n",
              "      <td>84.910004</td>\n",
              "      <td>2300.409912</td>\n",
              "      <td>88.320000</td>\n",
              "    </tr>\n",
              "  </tbody>\n",
              "</table>\n",
              "<p>1258 rows × 4 columns</p>\n",
              "</div>\n",
              "      <button class=\"colab-df-convert\" onclick=\"convertToInteractive('df-14442b2a-e030-41fb-ae0b-bad9676d9725')\"\n",
              "              title=\"Convert this dataframe to an interactive table.\"\n",
              "              style=\"display:none;\">\n",
              "        \n",
              "  <svg xmlns=\"http://www.w3.org/2000/svg\" height=\"24px\"viewBox=\"0 0 24 24\"\n",
              "       width=\"24px\">\n",
              "    <path d=\"M0 0h24v24H0V0z\" fill=\"none\"/>\n",
              "    <path d=\"M18.56 5.44l.94 2.06.94-2.06 2.06-.94-2.06-.94-.94-2.06-.94 2.06-2.06.94zm-11 1L8.5 8.5l.94-2.06 2.06-.94-2.06-.94L8.5 2.5l-.94 2.06-2.06.94zm10 10l.94 2.06.94-2.06 2.06-.94-2.06-.94-.94-2.06-.94 2.06-2.06.94z\"/><path d=\"M17.41 7.96l-1.37-1.37c-.4-.4-.92-.59-1.43-.59-.52 0-1.04.2-1.43.59L10.3 9.45l-7.72 7.72c-.78.78-.78 2.05 0 2.83L4 21.41c.39.39.9.59 1.41.59.51 0 1.02-.2 1.41-.59l7.78-7.78 2.81-2.81c.8-.78.8-2.07 0-2.86zM5.41 20L4 18.59l7.72-7.72 1.47 1.35L5.41 20z\"/>\n",
              "  </svg>\n",
              "      </button>\n",
              "      \n",
              "  <style>\n",
              "    .colab-df-container {\n",
              "      display:flex;\n",
              "      flex-wrap:wrap;\n",
              "      gap: 12px;\n",
              "    }\n",
              "\n",
              "    .colab-df-convert {\n",
              "      background-color: #E8F0FE;\n",
              "      border: none;\n",
              "      border-radius: 50%;\n",
              "      cursor: pointer;\n",
              "      display: none;\n",
              "      fill: #1967D2;\n",
              "      height: 32px;\n",
              "      padding: 0 0 0 0;\n",
              "      width: 32px;\n",
              "    }\n",
              "\n",
              "    .colab-df-convert:hover {\n",
              "      background-color: #E2EBFA;\n",
              "      box-shadow: 0px 1px 2px rgba(60, 64, 67, 0.3), 0px 1px 3px 1px rgba(60, 64, 67, 0.15);\n",
              "      fill: #174EA6;\n",
              "    }\n",
              "\n",
              "    [theme=dark] .colab-df-convert {\n",
              "      background-color: #3B4455;\n",
              "      fill: #D2E3FC;\n",
              "    }\n",
              "\n",
              "    [theme=dark] .colab-df-convert:hover {\n",
              "      background-color: #434B5C;\n",
              "      box-shadow: 0px 1px 3px 1px rgba(0, 0, 0, 0.15);\n",
              "      filter: drop-shadow(0px 1px 2px rgba(0, 0, 0, 0.3));\n",
              "      fill: #FFFFFF;\n",
              "    }\n",
              "  </style>\n",
              "\n",
              "      <script>\n",
              "        const buttonEl =\n",
              "          document.querySelector('#df-14442b2a-e030-41fb-ae0b-bad9676d9725 button.colab-df-convert');\n",
              "        buttonEl.style.display =\n",
              "          google.colab.kernel.accessAllowed ? 'block' : 'none';\n",
              "\n",
              "        async function convertToInteractive(key) {\n",
              "          const element = document.querySelector('#df-14442b2a-e030-41fb-ae0b-bad9676d9725');\n",
              "          const dataTable =\n",
              "            await google.colab.kernel.invokeFunction('convertToInteractive',\n",
              "                                                     [key], {});\n",
              "          if (!dataTable) return;\n",
              "\n",
              "          const docLinkHtml = 'Like what you see? Visit the ' +\n",
              "            '<a target=\"_blank\" href=https://colab.research.google.com/notebooks/data_table.ipynb>data table notebook</a>'\n",
              "            + ' to learn more about interactive tables.';\n",
              "          element.innerHTML = '';\n",
              "          dataTable['output_type'] = 'display_data';\n",
              "          await google.colab.output.renderOutput(dataTable, element);\n",
              "          const docLink = document.createElement('div');\n",
              "          docLink.innerHTML = docLinkHtml;\n",
              "          element.appendChild(docLink);\n",
              "        }\n",
              "      </script>\n",
              "    </div>\n",
              "  </div>\n",
              "  "
            ]
          },
          "metadata": {},
          "execution_count": 302
        }
      ]
    },
    {
      "cell_type": "code",
      "source": [
        "# Handling NaN Values\n",
        "close_prices.fillna(method='bfill',axis=0,inplace=True) # Replaces NaN values with the next valid value along the column\n",
        "daily_return = close_prices.pct_change() # Creates dataframe with daily return for each stock"
      ],
      "metadata": {
        "id": "fbedunThMxQW"
      },
      "execution_count": 303,
      "outputs": []
    },
    {
      "cell_type": "markdown",
      "source": [
        "##Plotting for Daily Returns over x Years for Selected Stocks"
      ],
      "metadata": {
        "id": "NS1vg3ieupnn"
      }
    },
    {
      "cell_type": "code",
      "source": [
        "fig, ax = plt.subplots()\n",
        "\n",
        "plt.rcParams['figure.figsize'] = (5, 3)\n",
        "\n",
        "ax.set(title=f\"Daily Return on Stocks Over {years} Yrs\", xlabel=\"Stocks\", ylabel=\"Daily Returns\")\n",
        "plt.bar(daily_return.columns, daily_return.mean(), color=\"tab:green\")"
      ],
      "metadata": {
        "colab": {
          "base_uri": "https://localhost:8080/",
          "height": 575
        },
        "id": "TyerdNAMM-IP",
        "outputId": "4c106c13-560a-477a-e3b8-fcc654a12a66"
      },
      "execution_count": 320,
      "outputs": [
        {
          "output_type": "execute_result",
          "data": {
            "text/plain": [
              "<BarContainer object of 4 artists>"
            ]
          },
          "metadata": {},
          "execution_count": 320
        },
        {
          "output_type": "display_data",
          "data": {
            "text/plain": [
              "<Figure size 720x576 with 1 Axes>"
            ],
            "image/png": "[encoded data removed]"
          },
          "metadata": {}
        }
      ]
    },
    {
      "cell_type": "code",
      "source": [
        "close_prices.mean()"
      ],
      "metadata": {
        "colab": {
          "base_uri": "https://localhost:8080/"
        },
        "id": "0bGJpo4jNMLg",
        "outputId": "cc97aa46-53bf-4241-a79e-3bd354df73f1"
      },
      "execution_count": 321,
      "outputs": [
        {
          "output_type": "execute_result",
          "data": {
            "text/plain": [
              "mco      230.393263\n",
              "amd       51.808005\n",
              "goog    1562.931220\n",
              "baba     186.792115\n",
              "dtype: float64"
            ]
          },
          "metadata": {},
          "execution_count": 321
        }
      ]
    },
    {
      "cell_type": "code",
      "source": [
        "close_prices.plot(linewidth=2, markersize=12, fontsize=8)\n",
        "plt.rcParams['figure.figsize'] = (20, 25)"
      ],
      "metadata": {
        "colab": {
          "base_uri": "https://localhost:8080/",
          "height": 564
        },
        "id": "pZPQvbfvNdKI",
        "outputId": "07e2ab67-39c5-408f-b41a-c8acdb36ff76"
      },
      "execution_count": 323,
      "outputs": [
        {
          "output_type": "display_data",
          "data": {
            "text/plain": [
              "<Figure size 864x720 with 1 Axes>"
            ],
            "image/png": "[encoded data removed]"
          },
          "metadata": {}
        }
      ]
    },
    {
      "cell_type": "code",
      "source": [
        "close_prices.plot(subplots=True, layout= (4,3), title = f\"{years} Yr Stock Movements\", grid = True);\n",
        "plt.xticks(rotation=45, fontsize=1);\n",
        "plt.rcParams['figure.figsize'] = (12, 10)"
      ],
      "metadata": {
        "colab": {
          "base_uri": "https://localhost:8080/",
          "height": 331
        },
        "id": "kmxkvWK5OMSn",
        "outputId": "072ae4ba-d0a0-4e27-a533-01f9669175f0"
      },
      "execution_count": 347,
      "outputs": [
        {
          "output_type": "display_data",
          "data": {
            "text/plain": [
              "<Figure size 864x576 with 12 Axes>"
            ],
            "image/png": "[encoded data removed]"
          },
          "metadata": {}
        }
      ]
    },
    {
      "cell_type": "code",
      "source": [
        ""
      ],
      "metadata": {
        "id": "s1bCi_R5wWV1"
      },
      "execution_count": null,
      "outputs": []
    }
  ]
}